{
 "cells": [
  {
   "cell_type": "code",
   "execution_count": 24,
   "id": "IztnR9BhvGLQ",
   "metadata": {
    "colab": {
     "base_uri": "https://localhost:8080/"
    },
    "id": "IztnR9BhvGLQ",
    "outputId": "0d75c392-c958-4494-e3f9-461c57c610f3"
   },
   "outputs": [
    {
     "name": "stdout",
     "output_type": "stream",
     "text": [
      "Train Data: 4128 examples, 8 features\n"
     ]
    }
   ],
   "source": [
    "X, y = sklearn.datasets.fetch_california_housing(return_X_y=True)\n",
    "X_train, X_test, y_train, y_test = train_test_split(\n",
    "    X, y, train_size=0.2, random_state=0)\n",
    "print(f\"Train Data: {X_train.shape[0]} examples, {X_train.shape[1]} features\")"
   ]
  },
  {
   "cell_type": "code",
   "execution_count": 25,
   "id": "5LzZ3S0ZA2YX",
   "metadata": {
    "colab": {
     "base_uri": "https://localhost:8080/"
    },
    "id": "5LzZ3S0ZA2YX",
    "outputId": "d4b04c11-e9e4-431b-917c-467807471453"
   },
   "outputs": [
    {
     "name": "stdout",
     "output_type": "stream",
     "text": [
      "6.89 s ± 119 ms per loop (mean ± std. dev. of 7 runs, 1 loop each)\n"
     ]
    }
   ],
   "source": [
    "%%timeit\n",
    "jax_objective = jax.jit(partial(jax_autodiff_grad_hess, jax_sle_loss))\n",
    "reg = XGBRegressor(objective=jax_objective, n_estimators=100)\n",
    "reg.fit(X_train, y_train)"
   ]
  }
 ],
 "metadata": {
  "kernelspec": {
   "display_name": "Python 3 (ipykernel)",
   "language": "python",
   "name": "python3"
  },
  "language_info": {
   "codemirror_mode": {
    "name": "ipython",
    "version": 3
   },
   "file_extension": ".py",
   "mimetype": "text/x-python",
   "name": "python",
   "nbconvert_exporter": "python",
   "pygments_lexer": "ipython3",
   "version": "3.9.12"
  }
 },
 "nbformat": 4,
 "nbformat_minor": 5
}
