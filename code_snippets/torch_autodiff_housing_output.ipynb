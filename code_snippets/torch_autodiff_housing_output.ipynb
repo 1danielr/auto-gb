{
 "cells": [
  {
   "cell_type": "code",
   "execution_count": 1,
   "id": "6afd7783-240c-4284-9530-bb8382c11ef6",
   "metadata": {
    "tags": []
   },
   "outputs": [
    {
     "name": "stdout",
     "output_type": "stream",
     "text": [
      "Train Data: 2064 examples, 8 features\n"
     ]
    }
   ],
   "source": [
    "X, y = sklearn.datasets.fetch_california_housing(return_X_y=True)\n",
    "X_train, X_test, y_train, y_test = train_test_split(\n",
    "    X, y, train_size=0.1, random_state=0)\n",
    "print(f\"Train Data: {X_train.shape[0]} examples, {X_train.shape[1]} features\")"
   ]
  },
  {
   "cell_type": "code",
   "execution_count": 2,
   "id": "501173db-12d3-4175-a46d-ecc8f9321817",
   "metadata": {
    "tags": []
   },
   "outputs": [
    {
     "name": "stdout",
     "output_type": "stream",
     "text": [
      "4.13 s ± 139 ms per loop (mean ± std. dev. of 7 runs, 1 loop each)\n"
     ]
    }
   ],
   "source": [
    "%%timeit\n",
    "torch_objective = partial(torch_autodiff_grad_hess, torch_sle_loss)\n",
    "reg = XGBRegressor(objective=torch_objective)\n",
    "reg.fit(X_train, y_train)"
   ]
  }
 ],
 "metadata": {
  "kernelspec": {
   "display_name": "Python 3 (ipykernel)",
   "language": "python",
   "name": "python3"
  },
  "language_info": {
   "codemirror_mode": {
    "name": "ipython",
    "version": 3
   },
   "file_extension": ".py",
   "mimetype": "text/x-python",
   "name": "python",
   "nbconvert_exporter": "python",
   "pygments_lexer": "ipython3",
   "version": "3.9.12"
  }
 },
 "nbformat": 4,
 "nbformat_minor": 5
}
