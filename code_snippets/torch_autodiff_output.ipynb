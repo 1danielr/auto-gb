{
 "cells": [
  {
   "cell_type": "code",
   "execution_count": 1,
   "id": "b698ec43-1036-487e-9f34-6b7ba11a4682",
   "metadata": {},
   "outputs": [
    {
     "data": {
      "text/plain": [
       "(tensor([ 0.3466,  0.0000, -0.1014]), tensor([0.0767, 0.1111, 0.0878]))"
      ]
     },
     "execution_count": 1,
     "metadata": {},
     "output_type": "execute_result"
    }
   ],
   "source": [
    "y_true = np.array([0, 2, 5])\n",
    "y_pred = np.array([1, 2, 3])\n",
    "torch_autodiff_grad_hess(torch_sle_loss, y_true, y_pred)"
   ]
  }
 ],
 "metadata": {
  "kernelspec": {
   "display_name": "Python 3 (ipykernel)",
   "language": "python",
   "name": "python3"
  },
  "language_info": {
   "codemirror_mode": {
    "name": "ipython",
    "version": 3
   },
   "file_extension": ".py",
   "mimetype": "text/x-python",
   "name": "python",
   "nbconvert_exporter": "python",
   "pygments_lexer": "ipython3",
   "version": "3.9.12"
  }
 },
 "nbformat": 4,
 "nbformat_minor": 5
}
